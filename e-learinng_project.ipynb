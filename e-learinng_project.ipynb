{
 "cells": [
  {
   "cell_type": "markdown",
   "metadata": {},
   "source": [
    "# E-lerning project<a class=\"anchor\" id=\"0-bullet\"></a>"
   ]
  },
  {
   "cell_type": "markdown",
   "metadata": {},
   "source": [
    "* [1. A/B testing](#1-bullet)\n",
    "  * [1.1 Conditions](#1.1-bullet)\n",
    "  * [1.2 Loading libraries and data](#1.2-bullet)\n",
    "  * [1.3 Review](#1.3-bullet)\n",
    "  * [1.4 Analysis](#1.4-bullet)\n",
    "  * [1.5 Conclusions](#1.5-bullet)\n",
    "* [2. SQL tasks](#2-bullet)\n",
    "  * [2.1 Excellent student. Conditions and query](#2.1-bullet)\n",
    "  * [2.2 Funnel optimization](#2.2-bullet)\n",
    "* [3. Python task](#3-bullet)\n",
    "  * [3.1 Automaticly recalculate metrics based on additional parameters](#3.1-bullet)\n",
    "  * [3.2 Build graphs based on the resulting metrics](#3.2-bullet)"
   ]
  },
  {
   "cell_type": "markdown",
   "metadata": {},
   "source": [
    "## 1. A/B testing <a class=\"anchor\" id=\"1-bullet\"></a>\n",
    "[back to the table of contents](#0-bullet)"
   ]
  },
  {
   "cell_type": "markdown",
   "metadata": {},
   "source": [
    "### 1.1 Conditions<a class=\"anchor\" id=\"1.1-bullet\"></a>"
   ]
  },
  {
   "cell_type": "markdown",
   "metadata": {},
   "source": [
    "Testing hypothesis - target group used a new mechanics for paying for services on the site, while the control group used the basic mechanics.\n",
    "\n",
    "Analyze the results of the experiment and draw a conclusion.Is it worth to launching a new payment mechanic for all users?"
   ]
  },
  {
   "cell_type": "markdown",
   "metadata": {},
   "source": [
    "### 1.2 Loading libraries and data<a class=\"anchor\" id=\"1.2-bullet\"></a>"
   ]
  },
  {
   "cell_type": "code",
   "execution_count": 44,
   "metadata": {},
   "outputs": [],
   "source": [
    "#data\n",
    "import pandas as pd\n",
    "import datetime as dt\n",
    "import numpy as np\n",
    "from datetime import timedelta\n",
    "\n",
    "#API\n",
    "import requests\n",
    "from urllib.parse import urlencode\n",
    "\n",
    "#visualization\n",
    "import matplotlib.pyplot as plt\n",
    "import seaborn as sns\n",
    "%matplotlib inline\n",
    "\n",
    "#statisticf\n",
    "from scipy.stats import norm \n",
    "\n",
    "\n",
    "#for displaying all pins - not only last\n",
    "from IPython.core.interactiveshell import InteractiveShell\n",
    "InteractiveShell.ast_node_interactivity = 'all'"
   ]
  },
  {
   "cell_type": "code",
   "execution_count": 45,
   "metadata": {},
   "outputs": [],
   "source": [
    "path = '~/final_project/data/'"
   ]
  },
  {
   "cell_type": "code",
   "execution_count": 46,
   "metadata": {},
   "outputs": [],
   "source": [
    "groups = pd.read_csv(path + 'groups.csv', sep=';')              # info about user-group (А – control, B – target group)\n",
    "group_add = pd.read_csv(path + 'group_add.csv', sep=',')        # additional info about users-group\n",
    "active_studs  = pd.read_csv(path + 'active_studs.csv', sep=';') # info about users who visited the platform during the days of the experiment.\n",
    "checks  = pd.read_csv(path + 'checks.csv', sep=';')             # file with information about user payments on the days of the experiment."
   ]
  },
  {
   "cell_type": "code",
   "execution_count": 2,
   "metadata": {},
   "outputs": [],
   "source": [
    "#from API\n",
    "\n",
    "base_url = 'https://cloud-api.yandex.net/v1/disk/public/resources/download?'\n",
    "\n",
    "links_dic = {\n",
    "    'groups':       ['https://disk.yandex.ru/d/UhyYx41rTt3clQ', ';'],\n",
    "    'groups_add':   ['https://disk.yandex.ru/d/5Kxrz02m3IBUwQ', ','],\n",
    "    'active_studs': ['https://disk.yandex.ru/d/Tbs44Bm6H_FwFQ', ','],\n",
    "    'checks':       ['https://disk.yandex.ru/d/pH1q-VqcxXjsVA', ';']\n",
    "            }\n",
    "\n",
    "for csv_filename, csv_link in links_dic.items():\n",
    "    final_url               = base_url + urlencode(dict(public_key=csv_link[0]))\n",
    "    response                = requests.get(final_url)\n",
    "    download_url            = response.json()['href']\n",
    "    globals()[csv_filename] = pd.read_csv(download_url, sep=csv_link[1])\n"
   ]
  },
  {
   "cell_type": "markdown",
   "metadata": {},
   "source": [
    "### 1.3 Review <a class=\"anchor\" id=\"1.3-bullet\"></a>"
   ]
  },
  {
   "cell_type": "code",
   "execution_count": 47,
   "metadata": {},
   "outputs": [],
   "source": [
    "list_of_df = [groups, groups_add, active_studs, checks]\n",
    "list_of_df_names = ['groups', 'groups_add', 'active_studs', 'checks']"
   ]
  },
  {
   "cell_type": "code",
   "execution_count": 48,
   "metadata": {},
   "outputs": [
    {
     "name": "stdout",
     "output_type": "stream",
     "text": [
      "The first 2 rows from **\u001b[1mgroups\u001b[0;0m**.\n"
     ]
    },
    {
     "data": {
      "text/html": [
       "<div>\n",
       "<style scoped>\n",
       "    .dataframe tbody tr th:only-of-type {\n",
       "        vertical-align: middle;\n",
       "    }\n",
       "\n",
       "    .dataframe tbody tr th {\n",
       "        vertical-align: top;\n",
       "    }\n",
       "\n",
       "    .dataframe thead th {\n",
       "        text-align: right;\n",
       "    }\n",
       "</style>\n",
       "<table border=\"1\" class=\"dataframe\">\n",
       "  <thead>\n",
       "    <tr style=\"text-align: right;\">\n",
       "      <th></th>\n",
       "      <th>id</th>\n",
       "      <th>grp</th>\n",
       "    </tr>\n",
       "  </thead>\n",
       "  <tbody>\n",
       "    <tr>\n",
       "      <th>0</th>\n",
       "      <td>1489</td>\n",
       "      <td>B</td>\n",
       "    </tr>\n",
       "    <tr>\n",
       "      <th>1</th>\n",
       "      <td>1627</td>\n",
       "      <td>A</td>\n",
       "    </tr>\n",
       "  </tbody>\n",
       "</table>\n",
       "</div>"
      ],
      "text/plain": [
       "     id grp\n",
       "0  1489   B\n",
       "1  1627   A"
      ]
     },
     "execution_count": 48,
     "metadata": {},
     "output_type": "execute_result"
    },
    {
     "name": "stdout",
     "output_type": "stream",
     "text": [
      "The first 2 rows from **\u001b[1mgroups_add\u001b[0;0m**.\n"
     ]
    },
    {
     "data": {
      "text/html": [
       "<div>\n",
       "<style scoped>\n",
       "    .dataframe tbody tr th:only-of-type {\n",
       "        vertical-align: middle;\n",
       "    }\n",
       "\n",
       "    .dataframe tbody tr th {\n",
       "        vertical-align: top;\n",
       "    }\n",
       "\n",
       "    .dataframe thead th {\n",
       "        text-align: right;\n",
       "    }\n",
       "</style>\n",
       "<table border=\"1\" class=\"dataframe\">\n",
       "  <thead>\n",
       "    <tr style=\"text-align: right;\">\n",
       "      <th></th>\n",
       "      <th>id</th>\n",
       "      <th>grp</th>\n",
       "    </tr>\n",
       "  </thead>\n",
       "  <tbody>\n",
       "    <tr>\n",
       "      <th>0</th>\n",
       "      <td>5694584</td>\n",
       "      <td>B</td>\n",
       "    </tr>\n",
       "    <tr>\n",
       "      <th>1</th>\n",
       "      <td>5694830</td>\n",
       "      <td>B</td>\n",
       "    </tr>\n",
       "  </tbody>\n",
       "</table>\n",
       "</div>"
      ],
      "text/plain": [
       "        id grp\n",
       "0  5694584   B\n",
       "1  5694830   B"
      ]
     },
     "execution_count": 48,
     "metadata": {},
     "output_type": "execute_result"
    },
    {
     "name": "stdout",
     "output_type": "stream",
     "text": [
      "The first 2 rows from **\u001b[1mactive_studs\u001b[0;0m**.\n"
     ]
    },
    {
     "data": {
      "text/html": [
       "<div>\n",
       "<style scoped>\n",
       "    .dataframe tbody tr th:only-of-type {\n",
       "        vertical-align: middle;\n",
       "    }\n",
       "\n",
       "    .dataframe tbody tr th {\n",
       "        vertical-align: top;\n",
       "    }\n",
       "\n",
       "    .dataframe thead th {\n",
       "        text-align: right;\n",
       "    }\n",
       "</style>\n",
       "<table border=\"1\" class=\"dataframe\">\n",
       "  <thead>\n",
       "    <tr style=\"text-align: right;\">\n",
       "      <th></th>\n",
       "      <th>student_id</th>\n",
       "    </tr>\n",
       "  </thead>\n",
       "  <tbody>\n",
       "    <tr>\n",
       "      <th>0</th>\n",
       "      <td>581585</td>\n",
       "    </tr>\n",
       "    <tr>\n",
       "      <th>1</th>\n",
       "      <td>5723133</td>\n",
       "    </tr>\n",
       "  </tbody>\n",
       "</table>\n",
       "</div>"
      ],
      "text/plain": [
       "   student_id\n",
       "0      581585\n",
       "1     5723133"
      ]
     },
     "execution_count": 48,
     "metadata": {},
     "output_type": "execute_result"
    },
    {
     "name": "stdout",
     "output_type": "stream",
     "text": [
      "The first 2 rows from **\u001b[1mchecks\u001b[0;0m**.\n"
     ]
    },
    {
     "data": {
      "text/html": [
       "<div>\n",
       "<style scoped>\n",
       "    .dataframe tbody tr th:only-of-type {\n",
       "        vertical-align: middle;\n",
       "    }\n",
       "\n",
       "    .dataframe tbody tr th {\n",
       "        vertical-align: top;\n",
       "    }\n",
       "\n",
       "    .dataframe thead th {\n",
       "        text-align: right;\n",
       "    }\n",
       "</style>\n",
       "<table border=\"1\" class=\"dataframe\">\n",
       "  <thead>\n",
       "    <tr style=\"text-align: right;\">\n",
       "      <th></th>\n",
       "      <th>student_id</th>\n",
       "      <th>rev</th>\n",
       "    </tr>\n",
       "  </thead>\n",
       "  <tbody>\n",
       "    <tr>\n",
       "      <th>0</th>\n",
       "      <td>1627</td>\n",
       "      <td>990.0</td>\n",
       "    </tr>\n",
       "    <tr>\n",
       "      <th>1</th>\n",
       "      <td>3185</td>\n",
       "      <td>690.0</td>\n",
       "    </tr>\n",
       "  </tbody>\n",
       "</table>\n",
       "</div>"
      ],
      "text/plain": [
       "   student_id    rev\n",
       "0        1627  990.0\n",
       "1        3185  690.0"
      ]
     },
     "execution_count": 48,
     "metadata": {},
     "output_type": "execute_result"
    }
   ],
   "source": [
    "#the firts view of dataframes\n",
    "for i in range(len(list_of_df)):\n",
    "    print('The first 2 rows from **{}**.' \\\n",
    "          .format('\\033[1m' + list_of_df_names[i] + \"\\033[0;0m\"))\n",
    "    list_of_df[i].head(2)"
   ]
  },
  {
   "cell_type": "code",
   "execution_count": 49,
   "metadata": {},
   "outputs": [
    {
     "name": "stdout",
     "output_type": "stream",
     "text": [
      "Main information for **\u001b[1mgroups\u001b[0;0m**.\n",
      "<class 'pandas.core.frame.DataFrame'>\n",
      "RangeIndex: 74484 entries, 0 to 74483\n",
      "Data columns (total 2 columns):\n",
      " #   Column  Non-Null Count  Dtype \n",
      "---  ------  --------------  ----- \n",
      " 0   id      74484 non-null  int64 \n",
      " 1   grp     74484 non-null  object\n",
      "dtypes: int64(1), object(1)\n",
      "memory usage: 1.1+ MB\n",
      "Main information for **\u001b[1mgroups_add\u001b[0;0m**.\n",
      "<class 'pandas.core.frame.DataFrame'>\n",
      "RangeIndex: 92 entries, 0 to 91\n",
      "Data columns (total 2 columns):\n",
      " #   Column  Non-Null Count  Dtype \n",
      "---  ------  --------------  ----- \n",
      " 0   id      92 non-null     int64 \n",
      " 1   grp     92 non-null     object\n",
      "dtypes: int64(1), object(1)\n",
      "memory usage: 1.6+ KB\n",
      "Main information for **\u001b[1mactive_studs\u001b[0;0m**.\n",
      "<class 'pandas.core.frame.DataFrame'>\n",
      "RangeIndex: 8341 entries, 0 to 8340\n",
      "Data columns (total 1 columns):\n",
      " #   Column      Non-Null Count  Dtype\n",
      "---  ------      --------------  -----\n",
      " 0   student_id  8341 non-null   int64\n",
      "dtypes: int64(1)\n",
      "memory usage: 65.3 KB\n",
      "Main information for **\u001b[1mchecks\u001b[0;0m**.\n",
      "<class 'pandas.core.frame.DataFrame'>\n",
      "RangeIndex: 541 entries, 0 to 540\n",
      "Data columns (total 2 columns):\n",
      " #   Column      Non-Null Count  Dtype  \n",
      "---  ------      --------------  -----  \n",
      " 0   student_id  541 non-null    int64  \n",
      " 1   rev         541 non-null    float64\n",
      "dtypes: float64(1), int64(1)\n",
      "memory usage: 8.6 KB\n"
     ]
    }
   ],
   "source": [
    "#check the numbers of columns, the number of rows. For each column: type, number of Nans.\n",
    "\n",
    "for i in range(len(list_of_df)):\n",
    "    print('Main information for **{}**.' \\\n",
    "          .format('\\033[1m' + list_of_df_names[i] + \"\\033[0;0m\"))\n",
    "    list_of_df[i].info()"
   ]
  },
  {
   "cell_type": "code",
   "execution_count": 50,
   "metadata": {},
   "outputs": [
    {
     "name": "stdout",
     "output_type": "stream",
     "text": [
      "Unique values for **\u001b[1mgroups\u001b[0;0m**.\n"
     ]
    },
    {
     "data": {
      "text/plain": [
       "id     74484\n",
       "grp        2\n",
       "dtype: int64"
      ]
     },
     "execution_count": 50,
     "metadata": {},
     "output_type": "execute_result"
    },
    {
     "name": "stdout",
     "output_type": "stream",
     "text": [
      "Unique values for **\u001b[1mgroups_add\u001b[0;0m**.\n"
     ]
    },
    {
     "data": {
      "text/plain": [
       "id     92\n",
       "grp     2\n",
       "dtype: int64"
      ]
     },
     "execution_count": 50,
     "metadata": {},
     "output_type": "execute_result"
    },
    {
     "name": "stdout",
     "output_type": "stream",
     "text": [
      "Unique values for **\u001b[1mactive_studs\u001b[0;0m**.\n"
     ]
    },
    {
     "data": {
      "text/plain": [
       "student_id    8341\n",
       "dtype: int64"
      ]
     },
     "execution_count": 50,
     "metadata": {},
     "output_type": "execute_result"
    },
    {
     "name": "stdout",
     "output_type": "stream",
     "text": [
      "Unique values for **\u001b[1mchecks\u001b[0;0m**.\n"
     ]
    },
    {
     "data": {
      "text/plain": [
       "student_id    541\n",
       "rev            39\n",
       "dtype: int64"
      ]
     },
     "execution_count": 50,
     "metadata": {},
     "output_type": "execute_result"
    }
   ],
   "source": [
    "#check the numbers of unique values for each columns\n",
    "for i in range(len(list_of_df)):\n",
    "    print('Unique values for **{}**.' \\\n",
    "          .format('\\033[1m' + list_of_df_names[i] + \"\\033[0;0m\"))\n",
    "    list_of_df[i].nunique()"
   ]
  },
  {
   "cell_type": "code",
   "execution_count": 9,
   "metadata": {},
   "outputs": [
    {
     "name": "stdout",
     "output_type": "stream",
     "text": [
      "Min payment 199.0.\n",
      "Max payment 4650.0.\n"
     ]
    }
   ],
   "source": [
    "#check the min and max payment from checks\n",
    "\n",
    "print('Min payment {}.' \\\n",
    "          .format(checks.rev.min()))\n",
    "\n",
    "print('Max payment {}.' \\\n",
    "          .format(checks.rev.max()))"
   ]
  },
  {
   "cell_type": "code",
   "execution_count": 10,
   "metadata": {},
   "outputs": [
    {
     "data": {
      "text/plain": [
       "<matplotlib.axes._subplots.AxesSubplot at 0x7faff24277f0>"
      ]
     },
     "execution_count": 10,
     "metadata": {},
     "output_type": "execute_result"
    },
    {
     "data": {
      "image/png": "[encoded data removed]",
      "text/plain": [
       "<Figure size 432x288 with 1 Axes>"
      ]
     },
     "metadata": {
      "needs_background": "light"
     },
     "output_type": "display_data"
    }
   ],
   "source": [
    "#check the distribution of rev from checks\n",
    "sns.boxplot(data=checks, y='rev')\n",
    "sns.despine()"
   ]
  },
  {
   "cell_type": "code",
   "execution_count": 51,
   "metadata": {},
   "outputs": [
    {
     "name": "stdout",
     "output_type": "stream",
     "text": [
      "Total count of users in sample 74576.\n"
     ]
    }
   ],
   "source": [
    "#total_count of users in sample\n",
    "groups_total = pd.concat([groups, group_add])\n",
    "\n",
    "print('Total count of users in sample {}.' \\\n",
    "          .format(groups_total.shape[0]))"
   ]
  },
  {
   "cell_type": "code",
   "execution_count": 52,
   "metadata": {},
   "outputs": [
    {
     "name": "stdout",
     "output_type": "stream",
     "text": [
      "Number of users from the active list, who were't in the samlpe:\n",
      "\u001b[1m0\u001b[1m\n"
     ]
    }
   ],
   "source": [
    "#check number of users from the active list, who were't in the samlpe (groups_total)\n",
    "print(\"Number of users from the active list, who were't in the samlpe:\\n{}\" \\\n",
    "          .format('\\033[1m' + \n",
    "                  str(active_studs.query('student_id not in @groups_total.id').shape[0]) \n",
    "                  + '\\033[1m'))\n"
   ]
  },
  {
   "cell_type": "code",
   "execution_count": 53,
   "metadata": {},
   "outputs": [
    {
     "name": "stdout",
     "output_type": "stream",
     "text": [
      "Number of paid users who were't in the in the samlpe:\n",
      "\u001b[1m0\u001b[1m\n"
     ]
    }
   ],
   "source": [
    "#check number of paid users who were't in the in the samlpe (groups_total)\n",
    "print(\"Number of paid users who were't in the in the samlpe:\\n{}\" \\\n",
    "          .format('\\033[1m' + \n",
    "                  str(active_studs.query('student_id not in @groups_total.id').shape[0]) \n",
    "                  + '\\033[1m'))"
   ]
  },
  {
   "cell_type": "code",
   "execution_count": 54,
   "metadata": {},
   "outputs": [
    {
     "name": "stdout",
     "output_type": "stream",
     "text": [
      "Number of paid users who weren't in the in the active list:\n",
      "\u001b[1m149\u001b[1m\n"
     ]
    }
   ],
   "source": [
    "#check number of paid users who weren't in the in the active list:\n",
    "print(\"Number of paid users who weren't in the in the active list:\\n{}\" \\\n",
    "          .format('\\033[1m' + \n",
    "                  str(checks.query('student_id not in @active_studs.student_id').shape[0]) \n",
    "                  + '\\033[1m'))"
   ]
  },
  {
   "cell_type": "code",
   "execution_count": 55,
   "metadata": {},
   "outputs": [
    {
     "name": "stdout",
     "output_type": "stream",
     "text": [
      "Distribution of all users by groups \n",
      "   count percentage\n",
      "B  59883      80.3%\n",
      "A  14693      19.7%\n",
      "\n",
      "Total: 74576\n"
     ]
    }
   ],
   "source": [
    "#check distribution of all users by groups:\n",
    "\n",
    "print('Distribution of all users by groups \\n{}\\n'\n",
    "          .format(pd.concat([groups_total.grp.value_counts(),\n",
    "                             (groups_total.grp.value_counts(normalize=True) \\\n",
    "                             .mul(100).round(1).astype(str) + '%')],\n",
    "                           axis=1, keys=['count', 'percentage'])))\n",
    "\n",
    "print('Total:', groups_total.grp.value_counts().sum())"
   ]
  },
  {
   "cell_type": "code",
   "execution_count": 56,
   "metadata": {},
   "outputs": [
    {
     "name": "stdout",
     "output_type": "stream",
     "text": [
      "Distribution of all paid users in sample by groups \n",
      "   count percentage\n",
      "B    434      80.2%\n",
      "A    107      19.8%\n",
      "\n",
      "Total: 541\n"
     ]
    }
   ],
   "source": [
    "#check distribution of all paid users in sanple by groups:\n",
    "\n",
    "print('Distribution of all paid users in sample by groups \\n{}\\n'\n",
    "          .format(pd.concat([groups_total.query('id in @checks.student_id').grp.value_counts(),\n",
    "                             (groups_total.query('id in @checks.student_id').grp.value_counts(normalize=True) \\\n",
    "                             .mul(100).round(1).astype(str) + '%')],\n",
    "                           axis=1, keys=['count', 'percentage'])))\n",
    "\n",
    "print('Total:', groups_total.query('id in @checks.student_id').grp.value_counts().sum())"
   ]
  },
  {
   "cell_type": "code",
   "execution_count": 57,
   "metadata": {},
   "outputs": [
    {
     "name": "stdout",
     "output_type": "stream",
     "text": [
      "Distribution of all active users in sample by groups \n",
      "   count percentage\n",
      "B   6803      81.6%\n",
      "A   1538      18.4%\n",
      "\n",
      "Total: 8341\n"
     ]
    }
   ],
   "source": [
    "#check distribution of all active users in sample by groups:\n",
    "\n",
    "print('Distribution of all active users in sample by groups \\n{}\\n'\n",
    "          .format(pd.concat([groups_total.query('id in @active_studs.student_id').grp.value_counts(),\n",
    "                             (groups_total.query('id in @active_studs.student_id').grp.value_counts(normalize=True) \\\n",
    "                             .mul(100).round(1).astype(str) + '%')],\n",
    "                           axis=1, keys=['count', 'percentage'])))\n",
    "\n",
    "print('Total:', groups_total.query('id in @active_studs.student_id').grp.value_counts().sum())"
   ]
  },
  {
   "cell_type": "code",
   "execution_count": 58,
   "metadata": {},
   "outputs": [
    {
     "name": "stdout",
     "output_type": "stream",
     "text": [
      "Distribution of all active and paid users in sample by groups \n",
      "   count percentage\n",
      "B    314      80.1%\n",
      "A     78      19.9%\n",
      "\n",
      "Total: 392\n"
     ]
    }
   ],
   "source": [
    "#check distribution of all active and paid users in sample by groups:\n",
    "\n",
    "print('Distribution of all active and paid users in sample by groups \\n{}\\n'\n",
    "          .format(pd.concat([groups_total.query('id in @active_studs.student_id & id in @checks.student_id').grp.value_counts(),\n",
    "                             (groups_total.query('id in @active_studs.student_id & id in @checks.student_id').grp.value_counts(normalize=True) \\\n",
    "                             .mul(100).round(1).astype(str) + '%')],\n",
    "                           axis=1, keys=['count', 'percentage'])))\n",
    "\n",
    "print('Total:', groups_total.query('id in @active_studs.student_id & id in @checks.student_id').grp.value_counts().sum())"
   ]
  },
  {
   "cell_type": "code",
   "execution_count": 59,
   "metadata": {},
   "outputs": [
    {
     "name": "stdout",
     "output_type": "stream",
     "text": [
      "Distribution of all active and not paid users in sample by groups \n",
      "   count percentage\n",
      "B   6489      81.6%\n",
      "A   1460      18.4%\n",
      "\n",
      "Total: 7949\n"
     ]
    }
   ],
   "source": [
    "#check distribution of all active but not paid users in sample by groups:\n",
    "\n",
    "print('Distribution of all active and not paid users in sample by groups \\n{}\\n'\n",
    "          .format(pd.concat([groups_total.query('id in @active_studs.student_id & id not in @checks.student_id').grp.value_counts(),\n",
    "                             (groups_total.query('id in @active_studs.student_id & id not in @checks.student_id').grp.value_counts(normalize=True) \\\n",
    "                             .mul(100).round(1).astype(str) + '%')],\n",
    "                           axis=1, keys=['count', 'percentage'])))\n",
    "\n",
    "print('Total:', groups_total.query('id in @active_studs.student_id & id not in @checks.student_id').grp.value_counts().sum())"
   ]
  },
  {
   "cell_type": "code",
   "execution_count": 61,
   "metadata": {},
   "outputs": [
    {
     "name": "stdout",
     "output_type": "stream",
     "text": [
      "Distribution of all not active but paid users in sample by groups \n",
      "   count percentage\n",
      "B    120      80.5%\n",
      "A     29      19.5%\n",
      "\n",
      "Total: 149\n"
     ]
    }
   ],
   "source": [
    "#check distribution of all not active but paid users in sample by groups (149 cases):\n",
    "\n",
    "print('Distribution of all not active but paid users in sample by groups \\n{}\\n'\n",
    "          .format(pd.concat([groups_total.query('id not in @active_studs.student_id & id in @checks.student_id').grp.value_counts(),\n",
    "                             (groups_total.query('id not in @active_studs.student_id & id in @checks.student_id').grp.value_counts(normalize=True) \\\n",
    "                             .mul(100).round(1).astype(str) + '%')],\n",
    "                           axis=1, keys=['count', 'percentage'])))\n",
    "\n",
    "print('Total:', groups_total.query('id not in @active_studs.student_id & id in @checks.student_id').grp.value_counts().sum())"
   ]
  },
  {
   "cell_type": "markdown",
   "metadata": {},
   "source": [
    "**Conclusions after the review:** \n",
    "* 1. There aren't Nans in dfs.\n",
    "* 2. 2 unique values for group in groups and group_add.\n",
    "* 3. Users are distributed unevenly across groups. Group B is significantly larger than Group A.\n",
    "* 4. Theer is 149 users, who weren't active, but paid - it's strange cases - wouldn't use it in sample for testing."
   ]
  },
  {
   "cell_type": "markdown",
   "metadata": {},
   "source": [
    "### 1.4 Analysis <a class=\"anchor\" id=\"1.4-bullet\"></a>"
   ]
  },
  {
   "cell_type": "code",
   "execution_count": 62,
   "metadata": {},
   "outputs": [
    {
     "data": {
      "text/html": [
       "<div>\n",
       "<style scoped>\n",
       "    .dataframe tbody tr th:only-of-type {\n",
       "        vertical-align: middle;\n",
       "    }\n",
       "\n",
       "    .dataframe tbody tr th {\n",
       "        vertical-align: top;\n",
       "    }\n",
       "\n",
       "    .dataframe thead th {\n",
       "        text-align: right;\n",
       "    }\n",
       "</style>\n",
       "<table border=\"1\" class=\"dataframe\">\n",
       "  <thead>\n",
       "    <tr style=\"text-align: right;\">\n",
       "      <th></th>\n",
       "      <th>id</th>\n",
       "      <th>grp</th>\n",
       "      <th>student_id</th>\n",
       "      <th>rev</th>\n",
       "    </tr>\n",
       "  </thead>\n",
       "  <tbody>\n",
       "    <tr>\n",
       "      <th>0</th>\n",
       "      <td>581585</td>\n",
       "      <td>A</td>\n",
       "      <td>581585</td>\n",
       "      <td>0.0</td>\n",
       "    </tr>\n",
       "    <tr>\n",
       "      <th>1</th>\n",
       "      <td>5723133</td>\n",
       "      <td>A</td>\n",
       "      <td>5723133</td>\n",
       "      <td>0.0</td>\n",
       "    </tr>\n",
       "    <tr>\n",
       "      <th>2</th>\n",
       "      <td>3276743</td>\n",
       "      <td>B</td>\n",
       "      <td>3276743</td>\n",
       "      <td>0.0</td>\n",
       "    </tr>\n",
       "    <tr>\n",
       "      <th>3</th>\n",
       "      <td>4238589</td>\n",
       "      <td>A</td>\n",
       "      <td>4238589</td>\n",
       "      <td>0.0</td>\n",
       "    </tr>\n",
       "    <tr>\n",
       "      <th>4</th>\n",
       "      <td>4475369</td>\n",
       "      <td>B</td>\n",
       "      <td>4475369</td>\n",
       "      <td>0.0</td>\n",
       "    </tr>\n",
       "  </tbody>\n",
       "</table>\n",
       "</div>"
      ],
      "text/plain": [
       "        id grp  student_id  rev\n",
       "0   581585   A      581585  0.0\n",
       "1  5723133   A     5723133  0.0\n",
       "2  3276743   B     3276743  0.0\n",
       "3  4238589   A     4238589  0.0\n",
       "4  4475369   B     4475369  0.0"
      ]
     },
     "execution_count": 62,
     "metadata": {},
     "output_type": "execute_result"
    }
   ],
   "source": [
    "#because we decided to use paid and active users and not use paid and unactive\n",
    "active_paid = ( active_studs\n",
    "                .merge(checks, how='left', on='student_id'))\n",
    "\n",
    "#add info about payiment to the users in sample\n",
    "\n",
    "active_total = groups_total.merge(active_paid, \n",
    "                                  how='right',\n",
    "                                  left_on = 'id',\n",
    "                                  right_on = 'student_id')\n",
    "\n",
    "active_total['rev'] = active_total.rev.fillna(0)     \n",
    "active_total.head()"
   ]
  },
  {
   "cell_type": "markdown",
   "metadata": {},
   "source": [
    "Let's see the distribution of payment for each group."
   ]
  },
  {
   "cell_type": "code",
   "execution_count": 64,
   "metadata": {},
   "outputs": [
    {
     "data": {
      "text/plain": [
       "<matplotlib.axes._subplots.AxesSubplot at 0x7f8b28c21978>"
      ]
     },
     "execution_count": 64,
     "metadata": {},
     "output_type": "execute_result"
    },
    {
     "data": {
      "image/png": "[encoded data removed]",
      "text/plain": [
       "<Figure size 432x288 with 1 Axes>"
      ]
     },
     "metadata": {
      "needs_background": "light"
     },
     "output_type": "display_data"
    }
   ],
   "source": [
    "active_total.query('grp == \"A\"')['rev'].value_counts(sort=False, bins=20).plot.bar()"
   ]
  },
  {
   "cell_type": "code",
   "execution_count": 115,
   "metadata": {},
   "outputs": [
    {
     "data": {
      "text/plain": [
       "<matplotlib.axes._subplots.AxesSubplot at 0x7fcfe7113080>"
      ]
     },
     "execution_count": 115,
     "metadata": {},
     "output_type": "execute_result"
    },
    {
     "data": {
      "image/png": "[encoded data removed]",
      "text/plain": [
       "<Figure size 432x288 with 1 Axes>"
      ]
     },
     "metadata": {
      "needs_background": "light"
     },
     "output_type": "display_data"
    }
   ],
   "source": [
    "active_total.query('grp == \"B\"')['rev'].value_counts(sort=False, bins=20).plot.bar()"
   ]
  },
  {
   "cell_type": "code",
   "execution_count": 118,
   "metadata": {},
   "outputs": [
    {
     "data": {
      "text/plain": [
       "<matplotlib.axes._subplots.AxesSubplot at 0x7fcfe753d400>"
      ]
     },
     "execution_count": 118,
     "metadata": {},
     "output_type": "execute_result"
    },
    {
     "data": {
      "image/png": "[encoded data removed]",
      "text/plain": [
       "<Figure size 432x288 with 1 Axes>"
      ]
     },
     "metadata": {
      "needs_background": "light"
     },
     "output_type": "display_data"
    }
   ],
   "source": [
    "active_total.query('grp == \"A\" & rev >0')['rev'].value_counts(sort=False, bins=20).plot.bar()"
   ]
  },
  {
   "cell_type": "code",
   "execution_count": 119,
   "metadata": {},
   "outputs": [
    {
     "data": {
      "text/plain": [
       "<matplotlib.axes._subplots.AxesSubplot at 0x7fcfe6f5c550>"
      ]
     },
     "execution_count": 119,
     "metadata": {},
     "output_type": "execute_result"
    },
    {
     "data": {
      "image/png": "[encoded data removed]",
      "text/plain": [
       "<Figure size 432x288 with 1 Axes>"
      ]
     },
     "metadata": {
      "needs_background": "light"
     },
     "output_type": "display_data"
    }
   ],
   "source": [
    "active_total.query('grp == \"B\" & rev >0')['rev'].value_counts(sort=False, bins=20).plot.bar()"
   ]
  },
  {
   "cell_type": "markdown",
   "metadata": {},
   "source": [
    "To conduct an experiment and subsequently analyze whether it is worth launching a new payment mechanic for all users, we need to select the metrics by which the evaluation will be made.\n",
    "\n",
    "To my mind, the most suitable metrics will be ARPU and ARPPU.\n",
    "\n",
    "\n",
    "**ARPU** is usually calculated as total revenue divided by the number of units, users, or subscribers.\n",
    "\n",
    "Average revenue per paying user (**ARPPU**) is a measurement that app marketers use to figure out how much revenue is generated by paying users and players, on average, over a certain time period.\n"
   ]
  },
  {
   "cell_type": "code",
   "execution_count": 65,
   "metadata": {},
   "outputs": [
    {
     "name": "stdout",
     "output_type": "stream",
     "text": [
      "\n",
      "\u001b[1mARPU\u001b[0m\n",
      "Ratio of the total amount to the number of active users:\n",
      "Group A: 47.35 \n",
      "Группа В: 58.06 \n",
      "ARPU for Group B 22.62 % more, than ARPU for Group A\n",
      "\n",
      "\u001b[1mARPPU \u001b[0m\n",
      "Ratio of the total amount to the number of active paid users\n",
      "Group А: 933.59 \n",
      "Group В: 1257.88 \n",
      "ARPPU for Group B 34.74 % more, than ARPPU for Group A\n"
     ]
    }
   ],
   "source": [
    "print('\\n\\033[1mARPU\\033[0m\\nRatio of the total amount to the number of active users:\\nGroup A:',\n",
    "                                                                          round(active_total.query('grp == \"A\" & rev >0').rev.sum() / active_total.query('grp == \"A\"').id.count(), 2),\n",
    "                                                                          '\\nГруппа В:', \n",
    "                                                                          round(active_total.query('grp == \"B\" & rev >0').rev.sum() / active_total.query('grp == \"B\"').id.count(), 2),\n",
    "      '\\nARPU for Group B', \n",
    "      round((round(active_total.query('grp == \"B\" & rev >0').rev.sum() / active_total.query('grp == \"B\"').id.count(), 2) - round(active_total.query('grp == \"A\" & rev >0').rev.sum() / active_total.query('grp == \"A\"').id.count(), 2)) /\n",
    "      round(active_total.query('grp == \"A\" & rev >0').rev.sum() / active_total.query('grp == \"A\"').id.count(), 2) * 100, 2), '%',\n",
    "      'more, than ARPU for Group A')\n",
    "\n",
    "print('\\n\\033[1mARPPU \\033[0m\\nRatio of the total amount to the number of active paid users\\nGroup А:',\n",
    "                                                                                      round(active_total.query('grp == \"A\" & rev >0').rev.mean(), 2), \n",
    "                                                                                     '\\nGroup В:', \n",
    "                                                                                      round(active_total.query('grp == \"B\" & rev >0').rev.mean(), 2),\n",
    "      '\\nARPPU for Group B', round(round(active_total.query('grp == \"B\" & rev >0').rev.mean() - active_total.query('grp == \"A\" & rev >0').rev.mean(), 2) /\n",
    "                             round(active_total.query('grp == \"A\" & rev >0').rev.mean(), 2) * 100, 2),'%',\n",
    "      'more, than ARPPU for Group A')"
   ]
  },
  {
   "cell_type": "markdown",
   "metadata": {},
   "source": [
    "#### Are these differences statistically significant?\n",
    "\n",
    "To get answers, we need to use statistical tests. Classical statistical tests such as t-test wouldn't work properly, because group sizes vary greatly. In such cases, bootstrap will be better."
   ]
  },
  {
   "cell_type": "markdown",
   "metadata": {},
   "source": [
    "## For ARPU\n",
    "\n",
    "* H0: The ARPUs in the two groups are the same.\n",
    "* H1: ARPUs differ between the two groups."
   ]
  },
  {
   "cell_type": "code",
   "execution_count": 66,
   "metadata": {},
   "outputs": [
    {
     "name": "stdout",
     "output_type": "stream",
     "text": [
      "\n",
      "\u001b[1mci \u001b[0m\n",
      "                0\n",
      "0.025   1.072509\n",
      "0.975  21.175004\n",
      "\n",
      "\u001b[1mp_value \u001b[0m = 0.03223224421509818\n"
     ]
    }
   ],
   "source": [
    "data = []\n",
    "for i in range(1000):        # creating samples\n",
    "        samples_1 = active_total.query('grp == \"A\"').rev.sample(\n",
    "            len(active_total.query('grp == \"B\"').rev), \n",
    "            replace = True                  \n",
    "        ).values\n",
    "        \n",
    "        samples_2 = active_total.query('grp == \"B\"').rev.sample(\n",
    "            len(active_total.query('grp == \"B\"').rev), \n",
    "            replace = True\n",
    "        ).values\n",
    "        \n",
    "        samples_delta = samples_2 - samples_1      # difference between samples\n",
    "        data.append(np.mean(samples_delta)) \n",
    "        \n",
    "df_data = pd.DataFrame(data)\n",
    "\n",
    "# confidence interval (using bootstrap confidence level = 0.95)\n",
    "left_quant  = (1 - 0.95)/2\n",
    "right_quant = 1 - (1 - 0.95) / 2\n",
    "ci = df_data.quantile([left_quant, right_quant])\n",
    "\n",
    "p_1 = norm.cdf(\n",
    "    x     = 0, \n",
    "    loc   = np.mean(data), \n",
    "    scale = np.std(data)\n",
    ")\n",
    "p_2 = norm.cdf(\n",
    "    x     = 0, \n",
    "    loc   = -np.mean(data), \n",
    "    scale = np.std(data)\n",
    ")\n",
    "p_value = min(p_1, p_2) * 2\n",
    "\n",
    "print('\\n\\033[1mci \\033[0m\\n {}'.format(ci))\n",
    "print('\\n\\033[1mp_value \\033[0m = {}'.format(p_value))"
   ]
  },
  {
   "cell_type": "markdown",
   "metadata": {},
   "source": [
    "The confidence interval does not include 0, we reject the null hypothesis. The ARPUs in the two groups are different."
   ]
  },
  {
   "cell_type": "markdown",
   "metadata": {},
   "source": [
    "## For ARPPU\n",
    "\n",
    "* H0: The ARPPUs in the two groups are the same.\n",
    "* H1: ARPPUs differ between the two groups."
   ]
  },
  {
   "cell_type": "code",
   "execution_count": 34,
   "metadata": {},
   "outputs": [
    {
     "name": "stdout",
     "output_type": "stream",
     "text": [
      "\n",
      "\u001b[1mci \u001b[0m\n",
      "                 0\n",
      "0.025  199.963547\n",
      "0.975  451.673261\n",
      "\n",
      "\u001b[1mp_value \u001b[0m = 6.186978278577758e-07\n"
     ]
    }
   ],
   "source": [
    "data = []\n",
    "for i in range(1000):        # creating samples\n",
    "        samples_1 = active_total.query('grp == \"A\" & rev >0').rev.sample(\n",
    "            len(active_total.query('grp == \"B\" & rev >0').rev), \n",
    "            replace = True                  \n",
    "        ).values\n",
    "        \n",
    "        samples_2 = active_total.query('grp == \"B\" & rev >0').rev.sample(\n",
    "            len(active_total.query('grp == \"B\"& rev >0').rev), \n",
    "            replace = True\n",
    "        ).values\n",
    "        \n",
    "        samples_delta = samples_2 - samples_1      # difference between samples\n",
    "        data.append(np.mean(samples_delta)) \n",
    "        \n",
    "df_data = pd.DataFrame(data)\n",
    "\n",
    "# confidence interval (using bootstrap confidence level = 0.95)\n",
    "left_quant  = (1 - 0.95)/2\n",
    "right_quant = 1 - (1 - 0.95) / 2\n",
    "ci = df_data.quantile([left_quant, right_quant])\n",
    "\n",
    "p_1 = norm.cdf(\n",
    "    x     = 0, \n",
    "    loc   = np.mean(data), \n",
    "    scale = np.std(data)\n",
    ")\n",
    "p_2 = norm.cdf(\n",
    "    x     = 0, \n",
    "    loc   = -np.mean(data), \n",
    "    scale = np.std(data)\n",
    ")\n",
    "p_value = min(p_1, p_2) * 2\n",
    "\n",
    "print('\\n\\033[1mci \\033[0m\\n {}'.format(ci))\n",
    "print('\\n\\033[1mp_value \\033[0m = {}'.format(p_value))"
   ]
  },
  {
   "cell_type": "markdown",
   "metadata": {},
   "source": [
    "The confidence interval does not include 0, we reject the null hypothesis. The ARPUs in the two groups are different."
   ]
  },
  {
   "cell_type": "markdown",
   "metadata": {},
   "source": [
    "### 1.5 Conclusions <a class=\"anchor\" id=\"1.5-bullet\"></a>"
   ]
  },
  {
   "cell_type": "markdown",
   "metadata": {},
   "source": [
    "Is it worth to launching a new payment mechanics for all users? - Yes, the new payment mechanics shows a statistically significant increase in the ARPU and ARPPU metrics;"
   ]
  },
  {
   "cell_type": "markdown",
   "metadata": {},
   "source": [
    "## 2. SQL tasks <a class=\"anchor\" id=\"2-bullet\"></a>\n",
    "[back to the table of contents](#0-bullet)"
   ]
  },
  {
   "cell_type": "markdown",
   "metadata": {},
   "source": [
    "### 2.1 Excellent student. Conditions and query <a class=\"anchor\" id=\"2.1-bullet\"></a>"
   ]
  },
  {
   "cell_type": "markdown",
   "metadata": {},
   "source": [
    "Educational courses consist of various lessons, each lessons consists of several small tasks. Small task is called a “pea”.\n",
    "\n",
    "The excellent student - user who solved 20 peas (Small tasks) correctly at least once during the current month.\n",
    "\n",
    "Find the number of excellent student.\n",
    "\n",
    "Table default.peas\n",
    "\n",
    "| Attribute name| Attribute type | Meaning                       |   |   |\n",
    "|-------------------|--------------|------------------------------------------|---|---|\n",
    "| st_id             | int          | ID student                               |   |   |\n",
    "| timest            | timestamp    | Task solution time                   |   |   |\n",
    "| correct           | bool         | Solved correctly?            |   |   |\n",
    "| subject           | text         | Subject   |   |   |"
   ]
  },
  {
   "cell_type": "code",
   "execution_count": 38,
   "metadata": {},
   "outputs": [],
   "source": [
    "sql = '''\n",
    "    WITH cte_1 as (\n",
    "        SELECT  \n",
    "            st_id, \n",
    "            timest,\n",
    "            SUM(correct) OVER (PARTITION BY st_id) AS peas_per_month\n",
    "        FROM default.peas)    \n",
    "    SELECT \n",
    "    COUNT(DISTINCT sq.st_id) AS excellent students \n",
    "    FROM cte_1\n",
    "    WHERE peas_per_month > 20;\n",
    "'''"
   ]
  },
  {
   "cell_type": "markdown",
   "metadata": {},
   "source": [
    "### 2.2 Funnel optimization <a class=\"anchor\" id=\"2.2-bullet\"></a>"
   ]
  },
  {
   "cell_type": "markdown",
   "metadata": {},
   "source": [
    "It is necessary to upload the following information about user groups in one request:\n",
    "\n",
    "- ARPU\n",
    "- ARPAU\n",
    "- CR for purchase\n",
    "- CR of an active user for purchase\n",
    "- User CR from math activity (subject = 'math') to purchase a math course\n",
    "\n",
    "For ARPU - all users included in groups. A user is considered active if he has solved more than 10 problems correctly in any discipline. A user is considered active in mathematics if he has solved 2 or more problems in mathematics correctly over the entire period of time.\n",
    "\n",
    "Table default.peas\n",
    "\n",
    "| Attribute name| Attribute type | Meaning                 |   |   |\n",
    "|-------------------|--------------|-----------------------|---|---|\n",
    "| st_id             | int          | ID student            |   |   |\n",
    "| timest            | timestamp    | Task solution time    |   |   |\n",
    "| correct           | bool         | Solved correctly?     |   |   |\n",
    "| subject           | text         | Subject               |   |   |\n",
    "\n",
    "Table default.studs\n",
    "\n",
    "| Attribute name| Attribute type | Meaning                                    |   |   |\n",
    "|-------------------|--------------|------------------------------------------|---|---|\n",
    "| st_id             | int          | ID student                               |   |   |\n",
    "| test_grp          | text         | student label in this experiment          |   |   |\n",
    "\n",
    "\n",
    "Table default.final_project_check\n",
    "\n",
    "| Attribute name    | Attribute type | Meaning                   |   |   |\n",
    "|-------------------|--------------|-----------------------------|---|---|\n",
    "| st_id             | int          | ID student                  |   |   |\n",
    "| sale_time         | timestamp    | Purchase's time             |   |   |\n",
    "| money             | int          | Price                       |   |   |\n",
    "| subject           | text         | Subject                     |   |   |\n"
   ]
  },
  {
   "cell_type": "code",
   "execution_count": null,
   "metadata": {},
   "outputs": [],
   "source": [
    "sql = '''\n",
    "\n",
    "WITH cte_1   /* Active stidents */\n",
    "AS (\n",
    "\n",
    "SELECT actives.st_id, \n",
    "       MAX(\n",
    "       CASE WHEN actives.peas_per_day >= 30 \n",
    "       THEN 1 \n",
    "       ELSE 0 END) AS active_in_total\n",
    "FROM (\n",
    "\n",
    "    SELECT\n",
    "    st_id, \n",
    "    timest, \n",
    "    SUM(correct) OVER (PARTITION BY st_id ORDER BY timest\n",
    "                       RANGE BETWEEN '1 day' PRECEDING AND CURRENT ROW) AS peas_per_day, \n",
    "    subject\n",
    "    FROM peas\n",
    "    \n",
    "    )\n",
    "GROUP BY st_id\n",
    "),\n",
    "cte_2   /* Active stidents for math */\n",
    "AS (\n",
    "  \n",
    "SELECT active_by_subj.st_id, \n",
    "        MAX(CASE WHEN active_by_subj.math_per_day >= 30 \n",
    "        THEN 1 ELSE 0 END) AS active_in_math\n",
    "FROM (\n",
    "\n",
    "     SELECT \n",
    "     st_id, \n",
    "     timest, \n",
    "     SUM(correct) OVER (PARTITION BY st_id, subject ORDER BY timest \n",
    "                        RANGE BETWEEN '1 day' PRECEDING AND CURRENT ROW)  AS math_per_day, \n",
    "     subject\n",
    "     FROM peas \n",
    "     \n",
    "      )\n",
    "            \n",
    "GROUP BY st_id\n",
    "),\n",
    "cte_3  /* Purchase the course, math*/\n",
    "AS (\n",
    " \n",
    "SELECT st_id, SUM(money) AS money,\n",
    "        1 AS sale_subject,\n",
    "        MAX(CASE WHEN subject = 'math' THEN 1 ELSE 0 END) AS sale_math\n",
    "FROM checks \n",
    "GROUP BY st_id\n",
    "\n",
    ")\n",
    "SELECT \n",
    " studs.test_grp, \n",
    " COALESCE(SUM(s.money), 0) / COUNT(at.st_id) AS ARPU,\n",
    " COALESCE(SUM(s.money), 0) / SUM(at.active_in_total) AS ARPAU,\n",
    " COALESCE(SUM(s.sale_subject), 0) / COUNT(at.st_id) AS CR,\n",
    " SUM(CASE WHEN at.active_in_total = 1 AND s.sale_subject = 1 THEN 1 ELSE 0 END) / SUM(at.active_in_total) AS СR_active,\n",
    " SUM(CASE WHEN am.active_in_math = 1 AND s.sale_math = 1 THEN 1 ELSE 0 END) / SUM(am.active_in_math) AS CR_math\n",
    "FROM cte_1 at\n",
    "JOIN cte_2 am USING (st_id)\n",
    "JOIN studs ON at.st_id = studs.st_id\n",
    "LEFT JOIN cte_3 s ON at.st_id = s.st_id\n",
    "GROUP BY test_grp\n",
    "'''"
   ]
  },
  {
   "cell_type": "markdown",
   "metadata": {},
   "source": [
    "## 3. Python task <a class=\"anchor\" id=\"3-bullet\"></a>\n",
    "[back to the table of contents](#0-bullet)"
   ]
  },
  {
   "cell_type": "markdown",
   "metadata": {},
   "source": [
    "### 3.1 Automaticly recalculate metrics based on additional parameters <a class=\"anchor\" id=\"3.1-bullet\"></a>"
   ]
  },
  {
   "cell_type": "markdown",
   "metadata": {},
   "source": [
    "Implement a function that will automatically load information from the additional file groups_add.csv (headers may differ) and recalculate metrics based on additional parameters."
   ]
  },
  {
   "cell_type": "code",
   "execution_count": 16,
   "metadata": {},
   "outputs": [
    {
     "data": {
      "text/html": [
       "<div>\n",
       "<style scoped>\n",
       "    .dataframe tbody tr th:only-of-type {\n",
       "        vertical-align: middle;\n",
       "    }\n",
       "\n",
       "    .dataframe tbody tr th {\n",
       "        vertical-align: top;\n",
       "    }\n",
       "\n",
       "    .dataframe thead th {\n",
       "        text-align: right;\n",
       "    }\n",
       "</style>\n",
       "<table border=\"1\" class=\"dataframe\">\n",
       "  <thead>\n",
       "    <tr style=\"text-align: right;\">\n",
       "      <th></th>\n",
       "      <th>id</th>\n",
       "      <th>grp</th>\n",
       "      <th>activity</th>\n",
       "      <th>rev</th>\n",
       "      <th>payment</th>\n",
       "    </tr>\n",
       "  </thead>\n",
       "  <tbody>\n",
       "    <tr>\n",
       "      <th>0</th>\n",
       "      <td>1489</td>\n",
       "      <td>B</td>\n",
       "      <td>NaN</td>\n",
       "      <td>NaN</td>\n",
       "      <td>NaN</td>\n",
       "    </tr>\n",
       "    <tr>\n",
       "      <th>1</th>\n",
       "      <td>1627</td>\n",
       "      <td>A</td>\n",
       "      <td>1.0</td>\n",
       "      <td>990.0</td>\n",
       "      <td>1.0</td>\n",
       "    </tr>\n",
       "    <tr>\n",
       "      <th>2</th>\n",
       "      <td>1768</td>\n",
       "      <td>B</td>\n",
       "      <td>NaN</td>\n",
       "      <td>NaN</td>\n",
       "      <td>NaN</td>\n",
       "    </tr>\n",
       "    <tr>\n",
       "      <th>3</th>\n",
       "      <td>1783</td>\n",
       "      <td>B</td>\n",
       "      <td>NaN</td>\n",
       "      <td>NaN</td>\n",
       "      <td>NaN</td>\n",
       "    </tr>\n",
       "    <tr>\n",
       "      <th>4</th>\n",
       "      <td>1794</td>\n",
       "      <td>A</td>\n",
       "      <td>NaN</td>\n",
       "      <td>NaN</td>\n",
       "      <td>NaN</td>\n",
       "    </tr>\n",
       "  </tbody>\n",
       "</table>\n",
       "</div>"
      ],
      "text/plain": [
       "     id grp  activity    rev  payment\n",
       "0  1489   B       NaN    NaN      NaN\n",
       "1  1627   A       1.0  990.0      1.0\n",
       "2  1768   B       NaN    NaN      NaN\n",
       "3  1783   B       NaN    NaN      NaN\n",
       "4  1794   A       NaN    NaN      NaN"
      ]
     },
     "execution_count": 16,
     "metadata": {},
     "output_type": "execute_result"
    }
   ],
   "source": [
    "# use active_total from A/B testing task as main df\n",
    "\n",
    "work_df = (\n",
    "    groups\n",
    "    .merge(\n",
    "        active_studs\n",
    "            .assign(activity=1)\n",
    "            .rename(columns={'student_id': 'id'})\n",
    "        ,on='id', how='outer'\n",
    "        )\n",
    "    .merge(\n",
    "        checks\n",
    "            .assign(payment = 1)\n",
    "            .rename(columns={'student_id': 'id'})\n",
    "        ,on='id', how='outer'\n",
    "    )\n",
    ")\n",
    "work_df.head()"
   ]
  },
  {
   "cell_type": "code",
   "execution_count": 17,
   "metadata": {},
   "outputs": [],
   "source": [
    "# func for rename columns\n",
    "\n",
    "def columns_renamer(df):\n",
    "    if str(df.iloc[0, 0]).isalpha():\n",
    "        df.columns = ['grp', 'id']\n",
    "    else:\n",
    "        df.columns = ['id', 'grp']"
   ]
  },
  {
   "cell_type": "code",
   "execution_count": 79,
   "metadata": {},
   "outputs": [],
   "source": [
    "def get_update(work_df, link, final=False):\n",
    "    # download additional file\n",
    "    \n",
    "    base_url = 'https://cloud-api.yandex.net/v1/disk/public/resources/download?'\n",
    "    \n",
    "    final_url    = base_url + urlencode(dict(public_key=link))\n",
    "    response     = requests.get(final_url)\n",
    "    download_url = response.json()['href']\n",
    "    group_add_df = pd.read_csv(download_url, sep=',')\n",
    "\n",
    "    # rename the columns according to the data type\n",
    "    columns_renamer(group_add_df)\n",
    "    \n",
    "    # combine the main df with an additional one\n",
    "    work_df = work_df.merge(group_add_df, on='id', how='outer')\n",
    "    work_df['grp_x'] = work_df.grp_x.fillna('')                  \n",
    "    work_df['grp_y'] = work_df.grp_y.fillna('')                  \n",
    "    work_df['grp']= work_df.grp_x + work_df.grp_y             \n",
    "    work_df = work_df.drop(['grp_x', 'grp_y'], axis=1)  \n",
    "    \n",
    "    #assign step values in the added lines\n",
    "    work_df = work_df.assign(step=0)\n",
    "    template = work_df.id.isin(group_add_df.id)\n",
    "    work_df.loc[template, 'step'] = work_df.step.max() + 1  \n",
    "    work_df['step'] = work_df.step.astype('int')\n",
    "    \n",
    "    # let's use only active ones\n",
    "    work_df = (work_df\n",
    "         .copy()\n",
    "         .dropna(subset=['activity', 'grp'])\n",
    "         )\n",
    "    for i in ['payment', 'rev']:\n",
    "        work_df[i] = work_df[i].fillna(0)\n",
    "    \n",
    "    # Let's recalculate the metrics, each cycle - a new addition of the groups_add file\n",
    "    df_ab = pd.DataFrame() \n",
    "\n",
    "    for i in range(work_df.step.max() + 1): \n",
    "        payment_a      = work_df.query('step <= @i and grp ==\"A\"').payment               \n",
    "        payment_b      = work_df.query('step <= @i and grp ==\"B\"').payment\n",
    "        rev_all_a      = work_df.query('step <= @i and grp ==\"A\"').rev\n",
    "        rev_all_b      = work_df.query('step <= @i and grp ==\"B\"').rev\n",
    "        rev_positive_a = work_df.query('step <= @i and rev > 0 and grp ==\"A\"').rev\n",
    "        rev_positive_b = work_df.query('step <= @i and rev > 0 and grp ==\"B\"').rev\n",
    "\n",
    "        #CR_a\n",
    "        cr_a = sum(payment_a) / len(payment_a)\n",
    "        #CR_b\n",
    "        cr_b = sum(payment_b) / len(payment_b)\n",
    "        #CR p-value\n",
    "        data_cr = []\n",
    "        for i in range(1000):        # creating samples\n",
    "                samples_1 = payment_a \n",
    "                samples_2 = payment_b\n",
    "                samples_delta = samples_2 - samples_1      # difference between samples\n",
    "                data_cr.append(sum(samples_delta) / len(samples_delta)) \n",
    "\n",
    "        df_data_cr = pd.DataFrame(data_cr)\n",
    "\n",
    "        # confidence interval (using bootstrap confidence level = 0.95)\n",
    "        left_quant  = (1 - 0.95)/2\n",
    "        right_quant = 1 - (1 - 0.95) / 2\n",
    "        ci = df_data_cr.quantile([left_quant, right_quant])\n",
    "\n",
    "        p_1 = norm.cdf(\n",
    "            x     = 0, \n",
    "            loc   = np.mean(data_cr), \n",
    "            scale = np.std(data_cr)\n",
    "        )\n",
    "        p_2 = norm.cdf(\n",
    "            x     = 0, \n",
    "            loc   = -np.mean(data_cr), \n",
    "            scale = np.std(data_cr)\n",
    "        )\n",
    "        p_value = min(p_1, p_2) * 2\n",
    "        cr_p_value = p_value\n",
    "\n",
    "        #ARPU_a\n",
    "        arpu_a = np.mean(rev_all_a)\n",
    "        #ARPU_b\n",
    "        arpu_b = np.mean(rev_all_b)\n",
    "        #ARPU p-value\n",
    "        data_arpu = []\n",
    "        for i in range(1000):        # creating samples\n",
    "                samples_1 = rev_all_a  \n",
    "                samples_2 = rev_all_b\n",
    "                samples_delta = samples_2 - samples_1      # difference between samples\n",
    "                data_arpu.append(np.mean(samples_delta)) \n",
    "\n",
    "        df_data_arpu = pd.DataFrame(data_arpu)\n",
    "\n",
    "        # confidence interval (using bootstrap confidence level = 0.95)\n",
    "        left_quant  = (1 - 0.95)/2\n",
    "        right_quant = 1 - (1 - 0.95) / 2\n",
    "        ci = df_data_arpu.quantile([left_quant, right_quant])\n",
    "\n",
    "        p_1 = norm.cdf(\n",
    "            x     = 0, \n",
    "            loc   = np.mean(data_arpu), \n",
    "            scale = np.std(data_arpu)\n",
    "        )\n",
    "        p_2 = norm.cdf(\n",
    "            x     = 0, \n",
    "            loc   = -np.mean(data_arpu), \n",
    "            scale = np.std(data_arpu)\n",
    "        )\n",
    "        p_value = min(p_1, p_2) * 2\n",
    "        arpu_p_value = p_value\n",
    "        #ARPPU_a\n",
    "        arppu_a = np.mean(rev_positive_a)\n",
    "        #ARPPU_b\n",
    "        arppu_b = np.mean(rev_positive_b)\n",
    "        #ARPPU p-value\n",
    "        data_arppu = []\n",
    "        for i in range(1000):        # creating samples\n",
    "                samples_1 = rev_positive_a  \n",
    "                samples_2 = rev_positive_b\n",
    "                samples_delta = samples_2 - samples_1      # difference between samples\n",
    "                data_arppu.append(np.mean(samples_delta)) \n",
    "\n",
    "        df_data_arppu = pd.DataFrame(data_arppu)\n",
    "\n",
    "        # confidence interval (using bootstrap confidence level = 0.95)\n",
    "        left_quant  = (1 - 0.95)/2\n",
    "        right_quant = 1 - (1 - 0.95) / 2\n",
    "        ci = df_data_arppu.quantile([left_quant, right_quant])\n",
    "\n",
    "        p_1 = norm.cdf(\n",
    "            x     = 0, \n",
    "            loc   = np.mean(data_arppu), \n",
    "            scale = np.std(data_arppu)\n",
    "        )\n",
    "        p_2 = norm.cdf(\n",
    "            x     = 0, \n",
    "            loc   = -np.mean(data_arppu), \n",
    "            scale = np.std(data_arppu)\n",
    "        )\n",
    "        p_value = min(p_1, p_2) * 2\n",
    "        arppu_p_value = p_value\n",
    "    \n",
    "    temp_df = pd.DataFrame([[cr_a, \n",
    "                             cr_b, \n",
    "                             cr_p_value, \n",
    "                             arpu_a, \n",
    "                             arpu_b, \n",
    "                             arpu_p_value, \n",
    "                             arppu_a, \n",
    "                             arppu_b, \n",
    "                             arppu_p_value]],\n",
    "                           columns=['CR_A',\n",
    "                                    'CR_B',\n",
    "                                    'CR_p-value',\n",
    "                                    'ARPU_A',\n",
    "                                    'ARPU_B',\n",
    "                                    'ARPU_p-value', \n",
    "                                    'ARPPU_A',\n",
    "                                    'ARPPU_B',\n",
    "                                    'ARPPU_p-value'])\n",
    "    # добавляем строку в итоговый дф\n",
    "    df_ab = pd.concat([df_ab, temp_df])      \n",
    "\n",
    "    # сбрасываем индексы\n",
    "    df_ab.reset_index(drop=True, inplace=True)  \n",
    "    df_ab['step'] = df_ab.index\n",
    "    if final == True:\n",
    "        return df_ab.tail(1)\n",
    "\n",
    "    return df_ab"
   ]
  },
  {
   "cell_type": "code",
   "execution_count": 80,
   "metadata": {},
   "outputs": [
    {
     "data": {
      "text/html": [
       "<div>\n",
       "<style scoped>\n",
       "    .dataframe tbody tr th:only-of-type {\n",
       "        vertical-align: middle;\n",
       "    }\n",
       "\n",
       "    .dataframe tbody tr th {\n",
       "        vertical-align: top;\n",
       "    }\n",
       "\n",
       "    .dataframe thead th {\n",
       "        text-align: right;\n",
       "    }\n",
       "</style>\n",
       "<table border=\"1\" class=\"dataframe\">\n",
       "  <thead>\n",
       "    <tr style=\"text-align: right;\">\n",
       "      <th></th>\n",
       "      <th>CR_A</th>\n",
       "      <th>CR_B</th>\n",
       "      <th>CR_p-value</th>\n",
       "      <th>ARPU_A</th>\n",
       "      <th>ARPU_B</th>\n",
       "      <th>ARPU_p-value</th>\n",
       "      <th>ARPPU_A</th>\n",
       "      <th>ARPPU_B</th>\n",
       "      <th>ARPPU_p-value</th>\n",
       "      <th>step</th>\n",
       "    </tr>\n",
       "  </thead>\n",
       "  <tbody>\n",
       "    <tr>\n",
       "      <th>0</th>\n",
       "      <td>0.050715</td>\n",
       "      <td>0.046156</td>\n",
       "      <td>NaN</td>\n",
       "      <td>47.347204</td>\n",
       "      <td>58.058798</td>\n",
       "      <td>NaN</td>\n",
       "      <td>933.589744</td>\n",
       "      <td>1257.878992</td>\n",
       "      <td>NaN</td>\n",
       "      <td>0</td>\n",
       "    </tr>\n",
       "  </tbody>\n",
       "</table>\n",
       "</div>"
      ],
      "text/plain": [
       "       CR_A      CR_B  CR_p-value     ARPU_A     ARPU_B  ARPU_p-value  \\\n",
       "0  0.050715  0.046156         NaN  47.347204  58.058798           NaN   \n",
       "\n",
       "      ARPPU_A      ARPPU_B  ARPPU_p-value  step  \n",
       "0  933.589744  1257.878992            NaN     0  "
      ]
     },
     "execution_count": 80,
     "metadata": {},
     "output_type": "execute_result"
    }
   ],
   "source": [
    "metrix = get_update(work_df, link)\n",
    "metrix"
   ]
  },
  {
   "cell_type": "markdown",
   "metadata": {},
   "source": [
    "### 3.2 Build graphs based on the resulting metrics <a class=\"anchor\" id=\"3.2-bullet\"></a>"
   ]
  },
  {
   "cell_type": "markdown",
   "metadata": {},
   "source": [
    "Implement a function that will build graphs based on the resulting metrics."
   ]
  },
  {
   "cell_type": "code",
   "execution_count": 81,
   "metadata": {},
   "outputs": [],
   "source": [
    "def get_graphs(df):\n",
    "    metrix_df = pd.DataFrame(columns = ['step', 'group'])                     \n",
    "    for i in ['CR_', 'ARPU_', 'ARPPU_']:                                      \n",
    "        cols    = df.filter(like = i).columns                                 \n",
    "        temp_df = pd.DataFrame()                                              \n",
    "        for j in cols[:2]:                                                    \n",
    "            tmp_row         = df[[j, 'step']] \\\n",
    "            .assign(group = j[-1:]) \\\n",
    "            .rename(columns = {j: j[:-2]})  \n",
    "            temp_df         = pd.concat([temp_df, tmp_row])                   \n",
    "        metrix_df = metrix_df \\\n",
    "                    .merge(temp_df, on=['step', 'group'], how='right')        \n",
    "    \n",
    "    figure, axes = plt.subplots(2, 3, sharex=True, figsize=(16,7))   \n",
    "    \n",
    "    figure.suptitle('p-value', fontsize=20)\n",
    "    \n",
    "    sns.lineplot(ax=axes[0, 0], data=metrix_df, x='step', y='CR', hue='group', linewidth=2)\n",
    "    ax1 = sns.lineplot(ax=axes[1, 0], data=df, x='step', y='CR_p-value', linewidth=2, color=\"#5fa0c6\", label='p-value')\n",
    "    ax1.axhline(0.05, ls='--', linewidth=1.5, color=(1, 0, 0, 0.7), label='p-value = 0.05')\n",
    "    ax1.set_ylabel('P-value `for CR')\n",
    "    ax1.set_xlabel('Time of upload')\n",
    "    ax1.legend()\n",
    "    \n",
    "    sns.lineplot(ax=axes[0, 1], data=metrix_df, x='step', y='ARPU', hue='group', linewidth=2)\n",
    "    ax2 = sns.lineplot(ax=axes[1, 1], data=df, x='step', y='ARPU_p-value', linewidth=2, color=\"#5fa0c6\", label='p-value')\n",
    "    ax2.axhline(0.05, ls='--', linewidth=1.5, color=(1, 0, 0, 0.7), label='p-value = 0.05')\n",
    "    ax2.set_ylabel('P-value for ARPU')\n",
    "    ax2.set_xlabel('Time of upload')\n",
    "    ax2.legend()\n",
    " \n",
    "    sns.lineplot(ax=axes[0, 2], data=metrix_df, x='step', y='ARPPU', hue='group', linewidth=2)\n",
    "    ax3 = sns.lineplot(ax=axes[1, 2], data=df, x='step', y='ARPPU_p-value', linewidth=2, color=\"#5fa0c6\", label='p-value')\n",
    "    ax3.axhline(0.05, ls='--', linewidth=1.5, color=(1, 0, 0, 0.7), label='p-value = 0.05')\n",
    "    ax3.set_ylabel('P-value for ARPPU ')\n",
    "    ax3.set_xlabel('Time of upload')\n",
    "    ax3.set_xticks(range(0, metrix_df.step.max() + 1))  \n",
    "    ax3.legend()\n",
    "    \n",
    "    plt.gcf().get_axes()[0].set_ylim(0, metrix_df.CR.max() * 1.1)                  \n",
    "    plt.gcf().get_axes()[1].set_ylim(0, metrix_df.ARPU.max() * 1.1)\n",
    "    plt.gcf().get_axes()[2].set_ylim(0, metrix_df.ARPPU.max() * 1.1)\n",
    "    plt.gcf().get_axes()[3].set_ylim(-0.001, max(0.05, metrix['CR_p-value'].max()) * 1.1)\n",
    "    plt.gcf().get_axes()[4].set_ylim(-0.001, max(0.05, metrix['ARPU_p-value'].max()) * 1.1)\n",
    "    plt.gcf().get_axes()[5].set_ylim(-0.001, max(0.05, metrix['ARPPU_p-value'].max()) * 1.1)\n",
    "    \n",
    "    # добавляем расстояния между графиками\n",
    "    plt.subplots_adjust(top=0.92, hspace = 0.1, wspace=0.3)"
   ]
  },
  {
   "cell_type": "code",
   "execution_count": 82,
   "metadata": {},
   "outputs": [
    {
     "data": {
      "image/png": "[encoded data removed]",
      "text/plain": [
       "<Figure size 1152x504 with 6 Axes>"
      ]
     },
     "metadata": {
      "needs_background": "light"
     },
     "output_type": "display_data"
    }
   ],
   "source": [
    "get_graphs(metrix)"
   ]
  },
  {
   "cell_type": "code",
   "execution_count": null,
   "metadata": {},
   "outputs": [],
   "source": []
  }
 ],
 "metadata": {
  "kernelspec": {
   "display_name": "Python 3 (ipykernel)",
   "language": "python",
   "name": "python3"
  },
  "language_info": {
   "codemirror_mode": {
    "name": "ipython",
    "version": 3
   },
   "file_extension": ".py",
   "mimetype": "text/x-python",
   "name": "python",
   "nbconvert_exporter": "python",
   "pygments_lexer": "ipython3",
   "version": "3.8.20"
  }
 },
 "nbformat": 4,
 "nbformat_minor": 4
}
